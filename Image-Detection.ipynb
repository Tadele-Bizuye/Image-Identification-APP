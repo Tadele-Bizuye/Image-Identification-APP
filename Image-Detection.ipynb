{
 "cells": [
  {
   "cell_type": "code",
   "execution_count": 3,
   "id": "53baf29d-f3fc-45c0-ad70-062f0719580e",
   "metadata": {},
   "outputs": [],
   "source": [
    "import tensorflow as tf\n",
    "import cv2\n",
    "import numpy as np\n",
    "import matplotlib.pyplot as plt\n",
    "import os\n",
    "from tensorflow.keras.preprocessing.image import ImageDataGenerator"
   ]
  },
  {
   "cell_type": "markdown",
   "id": "0752c38c-6423-48ae-8949-23b34cc02948",
   "metadata": {},
   "source": [
    "# 2. Data Collection and Loading\n",
    "Steps:\n",
    "### - Download the dataset from Kaggle Intel Image Classification.\n",
    "### - Unzip the dataset and structure folders if needed.\n",
    "### - Load images into NumPy arrays using OpenCV."
   ]
  },
  {
   "cell_type": "code",
   "execution_count": 5,
   "id": "f58aa96c-fb42-43c9-a551-576692e2c224",
   "metadata": {},
   "outputs": [
    {
     "name": "stdout",
     "output_type": "stream",
     "text": [
      "Training Data: (14034, 150, 150, 3), Training Labels: (14034,)\n",
      "Validation Data: (3000, 150, 150, 3), Validation Labels: (3000,)\n"
     ]
    }
   ],
   "source": [
    "# Define the dataset paths\n",
    "dataset_path = \"C:/Users/TadeleBizuye/OneDrive - esxethiopia/Desktop/Laabza/Baacumen/M-7 Deep Learning(1)/Data\"\n",
    "dataset_path_train = os.path.join(dataset_path, \"seg_train\")\n",
    "dataset_path_test = os.path.join(dataset_path, \"seg_test\")\n",
    "dataset_path_pred = os.path.join(dataset_path, \"seg_pred\")\n",
    "\n",
    "# Load and preprocess images function\n",
    "def load_images(folder_path, img_size=(150, 150)):\n",
    "    images = []\n",
    "    labels = []\n",
    "    class_names = sorted(os.listdir(folder_path))  # Sorted for consistent label ordering\n",
    "    for label, class_name in enumerate(class_names):\n",
    "        class_folder = os.path.join(folder_path, class_name)\n",
    "        if not os.path.isdir(class_folder):  # Skip if not a directory\n",
    "            continue\n",
    "        for img_file in os.listdir(class_folder):\n",
    "            img_path = os.path.join(class_folder, img_file)\n",
    "            img = cv2.imread(img_path)\n",
    "            if img is not None:\n",
    "                img = cv2.resize(img, img_size)\n",
    "                images.append(img)\n",
    "                labels.append(label)\n",
    "    return np.array(images), np.array(labels)\n",
    "\n",
    "# Load training and validation images\n",
    "train_images, train_labels = load_images(dataset_path_train)\n",
    "val_images, val_labels = load_images(dataset_path_test)\n",
    "\n",
    "# Check data shapes to ensure proper loading\n",
    "print(f\"Training Data: {train_images.shape}, Training Labels: {train_labels.shape}\")\n",
    "print(f\"Validation Data: {val_images.shape}, Validation Labels: {val_labels.shape}\")\n"
   ]
  },
  {
   "cell_type": "markdown",
   "id": "c8035afb-acf9-47f9-ac4c-54a4cd23cfba",
   "metadata": {},
   "source": [
    "# 3. Data Preprocessing\n",
    "Steps:\n",
    "### - Resize all images to 150x150.\n",
    "### - Normalize pixel values to [0, 1].\n",
    "### - Augment data using rotation, flipping, zooming, etc."
   ]
  },
  {
   "cell_type": "code",
   "execution_count": 7,
   "id": "b03a5e82-d3c2-425f-a659-c75e1d99ae61",
   "metadata": {},
   "outputs": [],
   "source": [
    "# Normalize data\n",
    "train_images = train_images / 255.0\n",
    "val_images = val_images / 255.0\n",
    "\n",
    "# Data augmentation\n",
    "datagen = ImageDataGenerator(\n",
    "    rotation_range=20,\n",
    "    width_shift_range=0.2,\n",
    "    height_shift_range=0.2,\n",
    "    zoom_range=0.2,\n",
    "    horizontal_flip=True\n",
    ")\n",
    "datagen.fit(train_images)\n"
   ]
  },
  {
   "cell_type": "markdown",
   "id": "9cf731c8-8151-4569-b504-4cd3807d6eb0",
   "metadata": {},
   "source": [
    "# 4. Building the CNN Model\n",
    "Steps:\n",
    "### - Design a CNN with TensorFlow/Keras.\n",
    "### - Use layers like Conv2D, MaxPooling2D, Dense, Dropout."
   ]
  },
  {
   "cell_type": "code",
   "execution_count": 9,
   "id": "4aca4967-b71b-4b31-bd97-06300cebd34f",
   "metadata": {},
   "outputs": [],
   "source": [
    "from tensorflow.keras.models import Sequential\n",
    "from tensorflow.keras.layers import Conv2D, MaxPooling2D, Flatten, Dense, Dropout, Input\n",
    "\n",
    "model = Sequential([\n",
    "    Input(shape=(150, 150, 3)),  # Define input shape here\n",
    "    Conv2D(32, (3, 3), activation='relu'),\n",
    "    MaxPooling2D(2, 2),\n",
    "    Conv2D(64, (3, 3), activation='relu'),\n",
    "    MaxPooling2D(2, 2),\n",
    "    Flatten(),\n",
    "    Dense(128, activation='relu'),\n",
    "    Dropout(0.5),\n",
    "    Dense(6, activation='softmax')\n",
    "])\n",
    "\n",
    "model.compile(optimizer='adam', loss='sparse_categorical_crossentropy', metrics=['accuracy'])"
   ]
  },
  {
   "cell_type": "markdown",
   "id": "f12e7d6d-d991-45ac-8bfe-cb8ed8f0f1b8",
   "metadata": {},
   "source": [
    "# 5. Model Training and Evaluation\n",
    "Steps:\n",
    "### - Train the model using fit with training and validation data.\n",
    "### - Visualize metrics using Matplotlib."
   ]
  },
  {
   "cell_type": "code",
   "execution_count": 11,
   "id": "2947597a-3e3a-49f4-8cf1-8aee58198eef",
   "metadata": {},
   "outputs": [
    {
     "name": "stderr",
     "output_type": "stream",
     "text": [
      "C:\\Users\\T.Bizuye\\anaconda3\\Lib\\site-packages\\keras\\src\\trainers\\data_adapters\\py_dataset_adapter.py:121: UserWarning: Your `PyDataset` class should call `super().__init__(**kwargs)` in its constructor. `**kwargs` can include `workers`, `use_multiprocessing`, `max_queue_size`. Do not pass these arguments to `fit()`, as they will be ignored.\n",
      "  self._warn_if_super_not_called()\n"
     ]
    },
    {
     "name": "stdout",
     "output_type": "stream",
     "text": [
      "Epoch 1/20\n",
      "\u001b[1m439/439\u001b[0m \u001b[32m━━━━━━━━━━━━━━━━━━━━\u001b[0m\u001b[37m\u001b[0m \u001b[1m266s\u001b[0m 595ms/step - accuracy: 0.4568 - loss: 1.4457 - val_accuracy: 0.6550 - val_loss: 0.9020\n",
      "Epoch 2/20\n",
      "\u001b[1m439/439\u001b[0m \u001b[32m━━━━━━━━━━━━━━━━━━━━\u001b[0m\u001b[37m\u001b[0m \u001b[1m233s\u001b[0m 530ms/step - accuracy: 0.6073 - loss: 1.0295 - val_accuracy: 0.6960 - val_loss: 0.8613\n",
      "Epoch 3/20\n",
      "\u001b[1m439/439\u001b[0m \u001b[32m━━━━━━━━━━━━━━━━━━━━\u001b[0m\u001b[37m\u001b[0m \u001b[1m229s\u001b[0m 522ms/step - accuracy: 0.6367 - loss: 0.9662 - val_accuracy: 0.7160 - val_loss: 0.8049\n",
      "Epoch 4/20\n",
      "\u001b[1m439/439\u001b[0m \u001b[32m━━━━━━━━━━━━━━━━━━━━\u001b[0m\u001b[37m\u001b[0m \u001b[1m229s\u001b[0m 522ms/step - accuracy: 0.6683 - loss: 0.8839 - val_accuracy: 0.7237 - val_loss: 0.7536\n",
      "Epoch 5/20\n",
      "\u001b[1m439/439\u001b[0m \u001b[32m━━━━━━━━━━━━━━━━━━━━\u001b[0m\u001b[37m\u001b[0m \u001b[1m235s\u001b[0m 534ms/step - accuracy: 0.6963 - loss: 0.8375 - val_accuracy: 0.7370 - val_loss: 0.7370\n",
      "Epoch 6/20\n",
      "\u001b[1m439/439\u001b[0m \u001b[32m━━━━━━━━━━━━━━━━━━━━\u001b[0m\u001b[37m\u001b[0m \u001b[1m231s\u001b[0m 525ms/step - accuracy: 0.7071 - loss: 0.8117 - val_accuracy: 0.7943 - val_loss: 0.5904\n",
      "Epoch 7/20\n",
      "\u001b[1m439/439\u001b[0m \u001b[32m━━━━━━━━━━━━━━━━━━━━\u001b[0m\u001b[37m\u001b[0m \u001b[1m237s\u001b[0m 539ms/step - accuracy: 0.7179 - loss: 0.7813 - val_accuracy: 0.7737 - val_loss: 0.6509\n",
      "Epoch 8/20\n",
      "\u001b[1m439/439\u001b[0m \u001b[32m━━━━━━━━━━━━━━━━━━━━\u001b[0m\u001b[37m\u001b[0m \u001b[1m227s\u001b[0m 517ms/step - accuracy: 0.7367 - loss: 0.7480 - val_accuracy: 0.7897 - val_loss: 0.6163\n",
      "Epoch 9/20\n",
      "\u001b[1m439/439\u001b[0m \u001b[32m━━━━━━━━━━━━━━━━━━━━\u001b[0m\u001b[37m\u001b[0m \u001b[1m235s\u001b[0m 536ms/step - accuracy: 0.7409 - loss: 0.7274 - val_accuracy: 0.7697 - val_loss: 0.6459\n",
      "Epoch 10/20\n",
      "\u001b[1m439/439\u001b[0m \u001b[32m━━━━━━━━━━━━━━━━━━━━\u001b[0m\u001b[37m\u001b[0m \u001b[1m230s\u001b[0m 523ms/step - accuracy: 0.7461 - loss: 0.7084 - val_accuracy: 0.8163 - val_loss: 0.5263\n",
      "Epoch 11/20\n",
      "\u001b[1m439/439\u001b[0m \u001b[32m━━━━━━━━━━━━━━━━━━━━\u001b[0m\u001b[37m\u001b[0m \u001b[1m234s\u001b[0m 532ms/step - accuracy: 0.7545 - loss: 0.6873 - val_accuracy: 0.8150 - val_loss: 0.5530\n",
      "Epoch 12/20\n",
      "\u001b[1m439/439\u001b[0m \u001b[32m━━━━━━━━━━━━━━━━━━━━\u001b[0m\u001b[37m\u001b[0m \u001b[1m223s\u001b[0m 507ms/step - accuracy: 0.7604 - loss: 0.6778 - val_accuracy: 0.8263 - val_loss: 0.5164\n",
      "Epoch 13/20\n",
      "\u001b[1m439/439\u001b[0m \u001b[32m━━━━━━━━━━━━━━━━━━━━\u001b[0m\u001b[37m\u001b[0m \u001b[1m235s\u001b[0m 536ms/step - accuracy: 0.7610 - loss: 0.6692 - val_accuracy: 0.8383 - val_loss: 0.4801\n",
      "Epoch 14/20\n",
      "\u001b[1m439/439\u001b[0m \u001b[32m━━━━━━━━━━━━━━━━━━━━\u001b[0m\u001b[37m\u001b[0m \u001b[1m278s\u001b[0m 634ms/step - accuracy: 0.7786 - loss: 0.6349 - val_accuracy: 0.7987 - val_loss: 0.5774\n",
      "Epoch 15/20\n",
      "\u001b[1m439/439\u001b[0m \u001b[32m━━━━━━━━━━━━━━━━━━━━\u001b[0m\u001b[37m\u001b[0m \u001b[1m289s\u001b[0m 659ms/step - accuracy: 0.7694 - loss: 0.6363 - val_accuracy: 0.8140 - val_loss: 0.5317\n",
      "Epoch 16/20\n",
      "\u001b[1m439/439\u001b[0m \u001b[32m━━━━━━━━━━━━━━━━━━━━\u001b[0m\u001b[37m\u001b[0m \u001b[1m282s\u001b[0m 643ms/step - accuracy: 0.7722 - loss: 0.6525 - val_accuracy: 0.8317 - val_loss: 0.4940\n",
      "Epoch 17/20\n",
      "\u001b[1m439/439\u001b[0m \u001b[32m━━━━━━━━━━━━━━━━━━━━\u001b[0m\u001b[37m\u001b[0m \u001b[1m284s\u001b[0m 646ms/step - accuracy: 0.7769 - loss: 0.6159 - val_accuracy: 0.8507 - val_loss: 0.4354\n",
      "Epoch 18/20\n",
      "\u001b[1m439/439\u001b[0m \u001b[32m━━━━━━━━━━━━━━━━━━━━\u001b[0m\u001b[37m\u001b[0m \u001b[1m285s\u001b[0m 650ms/step - accuracy: 0.7818 - loss: 0.6249 - val_accuracy: 0.8300 - val_loss: 0.4867\n",
      "Epoch 19/20\n",
      "\u001b[1m439/439\u001b[0m \u001b[32m━━━━━━━━━━━━━━━━━━━━\u001b[0m\u001b[37m\u001b[0m \u001b[1m278s\u001b[0m 632ms/step - accuracy: 0.7854 - loss: 0.6080 - val_accuracy: 0.8470 - val_loss: 0.4423\n",
      "Epoch 20/20\n",
      "\u001b[1m439/439\u001b[0m \u001b[32m━━━━━━━━━━━━━━━━━━━━\u001b[0m\u001b[37m\u001b[0m \u001b[1m274s\u001b[0m 623ms/step - accuracy: 0.7889 - loss: 0.5992 - val_accuracy: 0.8090 - val_loss: 0.5565\n"
     ]
    },
    {
     "data": {
      "image/png": "[encoded data removed]",
      "text/plain": [
       "<Figure size 640x480 with 1 Axes>"
      ]
     },
     "metadata": {},
     "output_type": "display_data"
    }
   ],
   "source": [
    "history = model.fit(datagen.flow(train_images, train_labels, batch_size=32),\n",
    "                    validation_data=(val_images, val_labels),\n",
    "                    epochs=20)\n",
    "\n",
    "# Plot metrics\n",
    "plt.plot(history.history['accuracy'], label='Training Accuracy')\n",
    "plt.plot(history.history['val_accuracy'], label='Validation Accuracy')\n",
    "plt.legend()\n",
    "plt.show()"
   ]
  },
  {
   "cell_type": "markdown",
   "id": "3bf345ef-5ee7-4d33-8d26-7839ca1ceb35",
   "metadata": {},
   "source": [
    "# 6. Model Optimization\n",
    "Steps:\n",
    "### - Add Dropout, Batch Normalization, and Learning Rate Scheduling to improve performance.\n",
    "### - Fine-tune hyperparameters like the number of layers, learning rate, etc."
   ]
  },
  {
   "cell_type": "code",
   "execution_count": 13,
   "id": "b637cdbd-af69-480b-863a-6b6e3b49a36d",
   "metadata": {},
   "outputs": [
    {
     "name": "stderr",
     "output_type": "stream",
     "text": [
      "C:\\Users\\T.Bizuye\\anaconda3\\Lib\\site-packages\\keras\\src\\trainers\\data_adapters\\py_dataset_adapter.py:121: UserWarning: Your `PyDataset` class should call `super().__init__(**kwargs)` in its constructor. `**kwargs` can include `workers`, `use_multiprocessing`, `max_queue_size`. Do not pass these arguments to `fit()`, as they will be ignored.\n",
      "  self._warn_if_super_not_called()\n"
     ]
    },
    {
     "name": "stdout",
     "output_type": "stream",
     "text": [
      "Epoch 1/20\n",
      "\u001b[1m439/439\u001b[0m \u001b[32m━━━━━━━━━━━━━━━━━━━━\u001b[0m\u001b[37m\u001b[0m \u001b[1m262s\u001b[0m 594ms/step - accuracy: 0.7949 - loss: 0.5826 - val_accuracy: 0.8427 - val_loss: 0.4623 - learning_rate: 0.0010\n",
      "Epoch 2/20\n",
      "\u001b[1m439/439\u001b[0m \u001b[32m━━━━━━━━━━━━━━━━━━━━\u001b[0m\u001b[37m\u001b[0m \u001b[1m236s\u001b[0m 537ms/step - accuracy: 0.7873 - loss: 0.5870 - val_accuracy: 0.8483 - val_loss: 0.4686 - learning_rate: 0.0010\n",
      "Epoch 3/20\n",
      "\u001b[1m439/439\u001b[0m \u001b[32m━━━━━━━━━━━━━━━━━━━━\u001b[0m\u001b[37m\u001b[0m \u001b[1m222s\u001b[0m 505ms/step - accuracy: 0.7935 - loss: 0.5848 - val_accuracy: 0.8280 - val_loss: 0.5122 - learning_rate: 0.0010\n",
      "Epoch 4/20\n",
      "\u001b[1m439/439\u001b[0m \u001b[32m━━━━━━━━━━━━━━━━━━━━\u001b[0m\u001b[37m\u001b[0m \u001b[1m237s\u001b[0m 540ms/step - accuracy: 0.7984 - loss: 0.5814 - val_accuracy: 0.8393 - val_loss: 0.4787 - learning_rate: 0.0010\n",
      "Epoch 5/20\n",
      "\u001b[1m439/439\u001b[0m \u001b[32m━━━━━━━━━━━━━━━━━━━━\u001b[0m\u001b[37m\u001b[0m \u001b[1m228s\u001b[0m 518ms/step - accuracy: 0.7991 - loss: 0.5701 - val_accuracy: 0.8557 - val_loss: 0.4214 - learning_rate: 0.0010\n",
      "Epoch 6/20\n",
      "\u001b[1m439/439\u001b[0m \u001b[32m━━━━━━━━━━━━━━━━━━━━\u001b[0m\u001b[37m\u001b[0m \u001b[1m237s\u001b[0m 541ms/step - accuracy: 0.7977 - loss: 0.5763 - val_accuracy: 0.8510 - val_loss: 0.4355 - learning_rate: 0.0010\n",
      "Epoch 7/20\n",
      "\u001b[1m439/439\u001b[0m \u001b[32m━━━━━━━━━━━━━━━━━━━━\u001b[0m\u001b[37m\u001b[0m \u001b[1m227s\u001b[0m 516ms/step - accuracy: 0.8027 - loss: 0.5614 - val_accuracy: 0.8383 - val_loss: 0.4533 - learning_rate: 0.0010\n",
      "Epoch 8/20\n",
      "\u001b[1m439/439\u001b[0m \u001b[32m━━━━━━━━━━━━━━━━━━━━\u001b[0m\u001b[37m\u001b[0m \u001b[1m233s\u001b[0m 532ms/step - accuracy: 0.8001 - loss: 0.5643 - val_accuracy: 0.8510 - val_loss: 0.4457 - learning_rate: 0.0010\n",
      "Epoch 9/20\n",
      "\u001b[1m439/439\u001b[0m \u001b[32m━━━━━━━━━━━━━━━━━━━━\u001b[0m\u001b[37m\u001b[0m \u001b[1m227s\u001b[0m 517ms/step - accuracy: 0.8032 - loss: 0.5627 - val_accuracy: 0.8323 - val_loss: 0.4847 - learning_rate: 0.0010\n",
      "Epoch 10/20\n",
      "\u001b[1m439/439\u001b[0m \u001b[32m━━━━━━━━━━━━━━━━━━━━\u001b[0m\u001b[37m\u001b[0m \u001b[1m240s\u001b[0m 547ms/step - accuracy: 0.8040 - loss: 0.5636 - val_accuracy: 0.8443 - val_loss: 0.4575 - learning_rate: 0.0010\n",
      "Epoch 11/20\n",
      "\u001b[1m439/439\u001b[0m \u001b[32m━━━━━━━━━━━━━━━━━━━━\u001b[0m\u001b[37m\u001b[0m \u001b[1m228s\u001b[0m 519ms/step - accuracy: 0.8170 - loss: 0.5208 - val_accuracy: 0.8390 - val_loss: 0.4528 - learning_rate: 5.0000e-04\n",
      "Epoch 12/20\n",
      "\u001b[1m439/439\u001b[0m \u001b[32m━━━━━━━━━━━━━━━━━━━━\u001b[0m\u001b[37m\u001b[0m \u001b[1m234s\u001b[0m 533ms/step - accuracy: 0.8229 - loss: 0.5130 - val_accuracy: 0.8453 - val_loss: 0.4447 - learning_rate: 5.0000e-04\n",
      "Epoch 13/20\n",
      "\u001b[1m439/439\u001b[0m \u001b[32m━━━━━━━━━━━━━━━━━━━━\u001b[0m\u001b[37m\u001b[0m \u001b[1m230s\u001b[0m 523ms/step - accuracy: 0.8152 - loss: 0.5116 - val_accuracy: 0.8377 - val_loss: 0.4599 - learning_rate: 5.0000e-04\n",
      "Epoch 14/20\n",
      "\u001b[1m439/439\u001b[0m \u001b[32m━━━━━━━━━━━━━━━━━━━━\u001b[0m\u001b[37m\u001b[0m \u001b[1m231s\u001b[0m 525ms/step - accuracy: 0.8248 - loss: 0.4983 - val_accuracy: 0.8650 - val_loss: 0.3995 - learning_rate: 5.0000e-04\n",
      "Epoch 15/20\n",
      "\u001b[1m439/439\u001b[0m \u001b[32m━━━━━━━━━━━━━━━━━━━━\u001b[0m\u001b[37m\u001b[0m \u001b[1m225s\u001b[0m 513ms/step - accuracy: 0.8198 - loss: 0.5084 - val_accuracy: 0.8573 - val_loss: 0.4195 - learning_rate: 5.0000e-04\n",
      "Epoch 16/20\n",
      "\u001b[1m439/439\u001b[0m \u001b[32m━━━━━━━━━━━━━━━━━━━━\u001b[0m\u001b[37m\u001b[0m \u001b[1m239s\u001b[0m 544ms/step - accuracy: 0.8228 - loss: 0.5008 - val_accuracy: 0.8547 - val_loss: 0.4105 - learning_rate: 5.0000e-04\n",
      "Epoch 17/20\n",
      "\u001b[1m439/439\u001b[0m \u001b[32m━━━━━━━━━━━━━━━━━━━━\u001b[0m\u001b[37m\u001b[0m \u001b[1m229s\u001b[0m 521ms/step - accuracy: 0.8219 - loss: 0.5096 - val_accuracy: 0.8570 - val_loss: 0.4203 - learning_rate: 5.0000e-04\n",
      "Epoch 18/20\n",
      "\u001b[1m439/439\u001b[0m \u001b[32m━━━━━━━━━━━━━━━━━━━━\u001b[0m\u001b[37m\u001b[0m \u001b[1m296s\u001b[0m 674ms/step - accuracy: 0.8280 - loss: 0.4925 - val_accuracy: 0.8360 - val_loss: 0.4510 - learning_rate: 5.0000e-04\n",
      "Epoch 19/20\n",
      "\u001b[1m439/439\u001b[0m \u001b[32m━━━━━━━━━━━━━━━━━━━━\u001b[0m\u001b[37m\u001b[0m \u001b[1m299s\u001b[0m 680ms/step - accuracy: 0.8316 - loss: 0.4742 - val_accuracy: 0.8607 - val_loss: 0.3976 - learning_rate: 5.0000e-04\n",
      "Epoch 20/20\n",
      "\u001b[1m439/439\u001b[0m \u001b[32m━━━━━━━━━━━━━━━━━━━━\u001b[0m\u001b[37m\u001b[0m \u001b[1m301s\u001b[0m 684ms/step - accuracy: 0.8320 - loss: 0.4722 - val_accuracy: 0.8397 - val_loss: 0.4675 - learning_rate: 5.0000e-04\n"
     ]
    },
    {
     "data": {
      "text/plain": [
       "<keras.src.callbacks.history.History at 0x1ff106c7150>"
      ]
     },
     "execution_count": 13,
     "metadata": {},
     "output_type": "execute_result"
    }
   ],
   "source": [
    "from tensorflow.keras.callbacks import ReduceLROnPlateau\n",
    "\n",
    "lr_scheduler = ReduceLROnPlateau(monitor='val_loss', factor=0.5, patience=5)\n",
    "model.fit(datagen.flow(train_images, train_labels, batch_size=32),\n",
    "          validation_data=(val_images, val_labels),\n",
    "          epochs=20,\n",
    "          callbacks=[lr_scheduler])\n"
   ]
  },
  {
   "cell_type": "markdown",
   "id": "7472257f-a05f-4788-9d96-a2d0564b0e73",
   "metadata": {},
   "source": [
    "# 7. Model Deployment\n",
    "Steps:\n",
    "### Save the trained model"
   ]
  },
  {
   "cell_type": "code",
   "execution_count": 35,
   "id": "92788a7a-3520-4179-acd0-8bbd75a92501",
   "metadata": {},
   "outputs": [],
   "source": [
    "model.save(\"image_classifier.keras\")"
   ]
  },
  {
   "cell_type": "markdown",
   "id": "7c58076b-24a2-4a2d-83e1-b1a4fa0b1921",
   "metadata": {},
   "source": [
    "# Streamlit App"
   ]
  },
  {
   "cell_type": "code",
   "execution_count": 37,
   "id": "1774bfb6-b9d0-4d69-86ba-89dda9b22705",
   "metadata": {},
   "outputs": [],
   "source": [
    "import streamlit as st\n",
    "from tensorflow.keras.models import load_model\n",
    "\n",
    "model = load_model(\"image_classifier.keras\")\n",
    "\n",
    "def predict_image(image):\n",
    "    img = cv2.resize(image, (150, 150)) / 255.0\n",
    "    img = img[np.newaxis, ...]\n",
    "    predictions = model.predict(img)\n",
    "    return predictions.argmax()\n",
    "\n",
    "st.title(\"Image Classification App\")\n",
    "uploaded_file = st.file_uploader(\"Upload an image\", type=[\"jpg\", \"png\"])\n",
    "if uploaded_file:\n",
    "    image = cv2.imread(uploaded_file)\n",
    "    st.image(image)\n",
    "    class_idx = predict_image(image)\n",
    "    st.write(f\"Predicted Class: {class_idx}\")\n"
   ]
  },
  {
   "cell_type": "code",
   "execution_count": null,
   "id": "b15b3810-77ca-44ea-9161-582d25a62bc2",
   "metadata": {},
   "outputs": [],
   "source": []
  }
 ],
 "metadata": {
  "kernelspec": {
   "display_name": "Python 3 (ipykernel)",
   "language": "python",
   "name": "python3"
  },
  "language_info": {
   "codemirror_mode": {
    "name": "ipython",
    "version": 3
   },
   "file_extension": ".py",
   "mimetype": "text/x-python",
   "name": "python",
   "nbconvert_exporter": "python",
   "pygments_lexer": "ipython3",
   "version": "3.11.7"
  }
 },
 "nbformat": 4,
 "nbformat_minor": 5
}
